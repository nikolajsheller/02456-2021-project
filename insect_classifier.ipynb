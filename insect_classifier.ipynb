{
 "cells": [
  {
   "cell_type": "markdown",
   "source": [
    "# 02456 2021 Project: Insect classification\n",
    "\n",
    "- Important! The code can not run unless FaunaPhotonics has agreed for one to have access to their data, database, and code. However, we have run this notebook and saved the outputs for inspection.\n",
    "\n",
    "## Datasets\n",
    "Data is provided by FaunaPhotonics and can not be shared, as it is considered owned by the company and confidential.\n",
    "\n",
    "## References\n",
    "The python module `evex_scout` imported in labelled_data.generate_data is owned by FaunaPhotonics. The code is used to collect the start and end times of individual insect events from a raw data file. A module named `fpmodules` is used to collect data from a database, which is also owned by FaunaPhotonics. The database consists of labels of whether the extracted events from the raw data file is insect or not. All resources from Faunaphotonics is only used for creating labelled datasets.\n",
    "\n",
    "The `EarlyStopping` class from machine_learning.early_stopping is from https://github.com/Bjarten/early-stopping-pytorch.\n",
    "\n",
    "All other code in this repository is made by Freja Thoresen (S213769), Pascal Dufour (S011602), Nikolaj Sheller (C971666).\n",
    "\n",
    "## Code\n",
    "The labelled_data folder contains all code to create labelled data files. The file to run the code is make_data.py.\n",
    "The machine_learning folder contains the model definition and training and validation loops, plus some other helper functions.\n"
   ],
   "metadata": {
    "collapsed": false,
    "pycharm": {
     "name": "#%% md\n"
    }
   }
  },
  {
   "cell_type": "code",
   "execution_count": 1,
   "outputs": [
    {
     "name": "stderr",
     "output_type": "stream",
     "text": [
      "\u001B[34m\u001B[1mwandb\u001B[0m: Currently logged in as: \u001B[33mfreja-thoresen\u001B[0m (use `wandb login --relogin` to force relogin)\n"
     ]
    },
    {
     "data": {
      "text/plain": "<IPython.core.display.HTML object>",
      "text/html": "\n                    Syncing run <strong><a href=\"https://wandb.ai/freja-thoresen/dtu-course/runs/1iqq8p33\" target=\"_blank\">summer-donkey-368</a></strong> to <a href=\"https://wandb.ai/freja-thoresen/dtu-course\" target=\"_blank\">Weights & Biases</a> (<a href=\"https://docs.wandb.com/integrations/jupyter.html\" target=\"_blank\">docs</a>).<br/>\n\n                "
     },
     "metadata": {},
     "output_type": "display_data"
    },
    {
     "data": {
      "text/html": "<button onClick=\"this.nextSibling.style.display='block';this.style.display='none';\">Display W&B run</button><iframe src=\"https://wandb.ai/freja-thoresen/dtu-course/runs/1iqq8p33?jupyter=true\" style=\"border:none;width:100%;height:420px;display:none;\"></iframe>",
      "text/plain": "<wandb.sdk.wandb_run.Run at 0x7fe34b2c31c0>"
     },
     "execution_count": 1,
     "metadata": {},
     "output_type": "execute_result"
    }
   ],
   "source": [
    "from machine_learning.make_model import *\n",
    "import matplotlib.pyplot as plt\n",
    "import numpy as np\n",
    "import matplotlib as mpl\n",
    "import seaborn as sns\n",
    "wandb.init(project=\"dtu-course\", entity=\"freja-thoresen\")"
   ],
   "metadata": {
    "collapsed": false,
    "pycharm": {
     "name": "#%%\n"
    }
   }
  },
  {
   "cell_type": "markdown",
   "source": [
    "## Set configuration"
   ],
   "metadata": {
    "collapsed": false,
    "pycharm": {
     "name": "#%% md\n"
    }
   }
  },
  {
   "cell_type": "code",
   "execution_count": 2,
   "outputs": [],
   "source": [
    "learning_rate = 0.0002\n",
    "sequence_length = 10\n",
    "input_size = 1 # number of features\n",
    "no_batches = 100\n",
    "num_classes = 1 # number of output classes\n",
    "\n",
    "lstm_dropbout = 0.2\n",
    "linear_dropout = 0.2\n",
    "lstm_hidden_size = 40 # number of features in hidden state\n",
    "linear_hidden_size = 60 # number of features in hidden state\n",
    "num_layers = 2 # number of stacked lstm layers\n",
    "\n",
    "no_files = 300 # no. data files\n",
    "epochs = 300 # 1000 epochs\n",
    "\n",
    "wandb.config = {\n",
    "    \"learning_rate\": learning_rate,\n",
    "    \"sequence_length\": sequence_length,\n",
    "    \"epochs\": epochs,\n",
    "    \"input_size\": input_size,\n",
    "    \"lstm_hidden_size\": lstm_hidden_size,\n",
    "    \"linear_hidden_size\": linear_hidden_size,\n",
    "    \"num_layers\": num_layers,\n",
    "    \"no_batches\": no_batches,\n",
    "    \"no_files\": no_files,\n",
    "    \"lstm_dropbout\": lstm_dropbout,\n",
    "    \"linear_dropout\": linear_dropout,\n",
    "    \"num_classes\": num_classes,\n",
    "    \"input_size\": input_size\n",
    "}"
   ],
   "metadata": {
    "collapsed": false,
    "pycharm": {
     "name": "#%%\n"
    }
   }
  },
  {
   "cell_type": "markdown",
   "source": [
    "### Define model from configuration"
   ],
   "metadata": {
    "collapsed": false,
    "pycharm": {
     "name": "#%% md\n"
    }
   }
  },
  {
   "cell_type": "code",
   "execution_count": 3,
   "outputs": [],
   "source": [
    "config = Config(wandb.config)\n",
    "lstm, criterion, optimizer = make_model(config)"
   ],
   "metadata": {
    "collapsed": false,
    "pycharm": {
     "name": "#%%\n"
    }
   }
  },
  {
   "cell_type": "markdown",
   "source": [
    "## Train model"
   ],
   "metadata": {
    "collapsed": false,
    "pycharm": {
     "name": "#%% md\n"
    }
   }
  },
  {
   "cell_type": "code",
   "execution_count": 4,
   "outputs": [
    {
     "name": "stdout",
     "output_type": "stream",
     "text": [
      "training files 240\n",
      "validation files 30\n",
      "test files 30\n",
      "Epoch: 0, training loss: 0.32544, validation loss: 0.67599, training acc: 0.89303, , validation acc: 0.84161\n",
      "Validation loss decreased (inf --> 0.675991).\n",
      "Validation loss decreased (0.675991 --> 0.267963).\n",
      "Validation loss decreased (0.267963 --> 0.251339).\n",
      "Validation loss decreased (0.251339 --> 0.210895).\n",
      "Validation loss decreased (0.210895 --> 0.203141).\n",
      "Epoch: 5, training loss: 0.18690, validation loss: 0.19502, training acc: 0.94489, , validation acc: 0.94599\n",
      "Validation loss decreased (0.203141 --> 0.195022).\n",
      "EarlyStopping counter: 1 out of 10\n",
      "Validation loss decreased (0.195022 --> 0.188100).\n",
      "Validation loss decreased (0.188100 --> 0.181680).\n",
      "Validation loss decreased (0.181680 --> 0.180434).\n",
      "Epoch: 10, training loss: 0.16469, validation loss: 0.18105, training acc: 0.95086, , validation acc: 0.95135\n",
      "EarlyStopping counter: 1 out of 10\n",
      "EarlyStopping counter: 2 out of 10\n",
      "EarlyStopping counter: 3 out of 10\n",
      "EarlyStopping counter: 4 out of 10\n",
      "EarlyStopping counter: 5 out of 10\n",
      "Epoch: 15, training loss: 0.15919, validation loss: 0.20564, training acc: 0.95185, , validation acc: 0.94368\n",
      "EarlyStopping counter: 6 out of 10\n",
      "EarlyStopping counter: 7 out of 10\n",
      "EarlyStopping counter: 8 out of 10\n",
      "EarlyStopping counter: 9 out of 10\n",
      "EarlyStopping counter: 10 out of 10\n",
      "Early stopping\n"
     ]
    }
   ],
   "source": [
    "X_test, y_test = train_model(lstm, criterion, optimizer, config, verbose=1)"
   ],
   "metadata": {
    "collapsed": false,
    "pycharm": {
     "name": "#%%\n"
    }
   }
  },
  {
   "cell_type": "markdown",
   "source": [
    "## Inspect model with test data\n",
    "### Calculate test accuracy\n",
    "10 % of the full dataset is used to calculate the accuracy of the model. These 10 % has not been used prior in the training or validation of the model."
   ],
   "metadata": {
    "collapsed": false,
    "pycharm": {
     "name": "#%% md\n"
    }
   }
  },
  {
   "cell_type": "code",
   "execution_count": 5,
   "outputs": [
    {
     "name": "stdout",
     "output_type": "stream",
     "text": [
      "test accuracy 0.9405\n"
     ]
    }
   ],
   "source": [
    "test_gen = data_generator(X_test, y_test, sequence_length=10)\n",
    "test_loss=0\n",
    "test_correct=0\n",
    "test_all=0\n",
    "for _ in range(len(X_test)):\n",
    "  i_batch = 0\n",
    "  data, labels = test_gen.__next__()\n",
    "  data = get_variable(data)\n",
    "  labels = get_variable(labels)\n",
    "\n",
    "  while data.shape[0] > i_batch + config.no_batches:\n",
    "    batch_data = Variable(data[i_batch:(i_batch + config.no_batches)])\n",
    "    batch_labels = Variable(labels[(i_batch * config.sequence_length):(i_batch + config.no_batches) * config.sequence_length])\n",
    "\n",
    "    lstm.eval()\n",
    "    outputs = lstm.forward(batch_data)  # forward pass\n",
    "    loss = criterion(outputs, batch_labels)\n",
    "    test_loss += loss.item()\n",
    "\n",
    "    test_correct += (evaluate_result(outputs) == batch_labels).float().sum()\n",
    "    test_all += len(batch_labels)\n",
    "    i_batch += no_batches\n",
    "\n",
    "test_acc = test_correct / float(test_all)\n",
    "print('test accuracy', np.around(test_acc.item(), decimals=4))"
   ],
   "metadata": {
    "collapsed": false,
    "pycharm": {
     "name": "#%%\n"
    }
   }
  },
  {
   "cell_type": "markdown",
   "source": [
    "### Example of prediction"
   ],
   "metadata": {
    "collapsed": false,
    "pycharm": {
     "name": "#%% md\n"
    }
   }
  },
  {
   "cell_type": "code",
   "execution_count": 6,
   "outputs": [],
   "source": [
    "test_gen = data_generator(X_test, y_test, sequence_length=config.sequence_length)\n",
    "data, labels = test_gen.__next__()\n",
    "train_predict = lstm(data)#forward pass\n",
    "data_predict = train_predict.data.cpu().numpy() #numpy conversion"
   ],
   "metadata": {
    "collapsed": false,
    "pycharm": {
     "name": "#%%\n"
    }
   }
  },
  {
   "cell_type": "code",
   "execution_count": 7,
   "outputs": [
    {
     "data": {
      "text/plain": "<Figure size 576x360 with 1 Axes>",
      "image/png": "[encoded data removed]"
     },
     "metadata": {
      "needs_background": "light"
     },
     "output_type": "display_data"
    }
   ],
   "source": [
    "plt.figure(figsize=(8,5))\n",
    "sns.histplot(data_predict, binwidth=0.01,label='predicted labels')\n",
    "plt.legend()\n",
    "plt.show()"
   ],
   "metadata": {
    "collapsed": false,
    "pycharm": {
     "name": "#%%\n"
    }
   }
  },
  {
   "cell_type": "code",
   "execution_count": 8,
   "outputs": [
    {
     "data": {
      "text/plain": "<Figure size 1800x504 with 1 Axes>",
      "image/png": "[encoded data removed]"
     },
     "metadata": {
      "needs_background": "light"
     },
     "output_type": "display_data"
    }
   ],
   "source": [
    "predicted_labels = np.zeros_like(data_predict)\n",
    "predicted_labels[data_predict > 0.5] = 1\n",
    "predicted_labels[data_predict < 0.5] = 0\n",
    "\n",
    "cmap = mpl.cm.get_cmap('viridis', 8)\n",
    "c1 = mpl.colors.rgb2hex(cmap(6)[:3])\n",
    "c2 = mpl.colors.rgb2hex(cmap(0)[:3])\n",
    "\n",
    "# range selection of data (otherwise very long)\n",
    "x1 = 5000\n",
    "x2 = 8000\n",
    "\n",
    "data_plot = data.detach().numpy().flatten()\n",
    "\n",
    "z = np.linspace(x1,x2-1,x2-x1)\n",
    "z = (z - x1)/2000\n",
    "plt.figure(figsize=(25,7)) #plotting\n",
    "\n",
    "plt.plot(z, labels[x1:x2,:], label='Labelled data', ls='--', c=c1, linewidth=2.3) #actual plot\n",
    "plt.errorbar(z, predicted_labels[x1:x2,:], label='Predicted data', fmt='o', markersize=1.8, c=c2,alpha=0.5) #predicted plot\n",
    "plt.title('Time-Series Prediction')\n",
    "plt.errorbar(z, data_plot[x1:x2] - data_plot[x1], label='Insect data', fmt='-',c='black', alpha=0.5, linewidth=1.2) #predicted plot\n",
    "\n",
    "plt.gca().set_xlim([0,z[-1]])\n",
    "\n",
    "plt.gca().set_xlabel('Time [s]')\n",
    "plt.legend(loc='upper right')\n",
    "plt.show()"
   ],
   "metadata": {
    "collapsed": false,
    "pycharm": {
     "name": "#%%\n"
    }
   }
  }
 ],
 "metadata": {
  "kernelspec": {
   "name": "ml",
   "language": "python",
   "display_name": "ml"
  },
  "language_info": {
   "codemirror_mode": {
    "name": "ipython",
    "version": 2
   },
   "file_extension": ".py",
   "mimetype": "text/x-python",
   "name": "python",
   "nbconvert_exporter": "python",
   "pygments_lexer": "ipython2",
   "version": "2.7.6"
  }
 },
 "nbformat": 4,
 "nbformat_minor": 0
}